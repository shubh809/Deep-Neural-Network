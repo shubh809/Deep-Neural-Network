{
 "cells": [
  {
   "cell_type": "code",
   "execution_count": 1,
   "metadata": {},
   "outputs": [
    {
     "name": "stderr",
     "output_type": "stream",
     "text": [
      "/Users/shubhan/anaconda/lib/python3.6/site-packages/h5py/__init__.py:36: FutureWarning: Conversion of the second argument of issubdtype from `float` to `np.floating` is deprecated. In future, it will be treated as `np.float64 == np.dtype(float).type`.\n",
      "  from ._conv import register_converters as _register_converters\n"
     ]
    }
   ],
   "source": [
    "import tensorflow as tf\n",
    "import numpy as np"
   ]
  },
  {
   "cell_type": "code",
   "execution_count": 2,
   "metadata": {
    "scrolled": true
   },
   "outputs": [
    {
     "name": "stdout",
     "output_type": "stream",
     "text": [
      "Successfully downloaded train-images-idx3-ubyte.gz 9912422 bytes.\n",
      "Extracting /tmp/data/train-images-idx3-ubyte.gz\n",
      "Successfully downloaded train-labels-idx1-ubyte.gz 28881 bytes.\n",
      "Extracting /tmp/data/train-labels-idx1-ubyte.gz\n",
      "Successfully downloaded t10k-images-idx3-ubyte.gz 1648877 bytes.\n",
      "Extracting /tmp/data/t10k-images-idx3-ubyte.gz\n",
      "Successfully downloaded t10k-labels-idx1-ubyte.gz 4542 bytes.\n",
      "Extracting /tmp/data/t10k-labels-idx1-ubyte.gz\n"
     ]
    }
   ],
   "source": [
    "from tensorflow.examples.tutorials.mnist import input_data\n",
    "mnist = input_data.read_data_sets(\"/tmp/data/\", one_hot = True)"
   ]
  },
  {
   "cell_type": "markdown",
   "metadata": {},
   "source": [
    "##### mnist data contains images of digit 0-9 so 10 classes are there to predict"
   ]
  },
  {
   "cell_type": "markdown",
   "metadata": {},
   "source": [
    "###### we are going to have three fully connected hidden layers  each layer will have 500 neurons"
   ]
  },
  {
   "cell_type": "code",
   "execution_count": 3,
   "metadata": {
    "collapsed": true
   },
   "outputs": [],
   "source": [
    "n_nodes_hl1 = 500\n",
    "n_nodes_hl2 = 500\n",
    "n_nodes_hl3 = 500\n",
    "n_classes = 10   \n",
    "batch_size = 128"
   ]
  },
  {
   "cell_type": "code",
   "execution_count": 4,
   "metadata": {},
   "outputs": [
    {
     "name": "stdout",
     "output_type": "stream",
     "text": [
      "55000\n",
      "10000\n"
     ]
    }
   ],
   "source": [
    "print(mnist.train.num_examples)\n",
    "print(mnist.test.num_examples)"
   ]
  },
  {
   "cell_type": "code",
   "execution_count": 5,
   "metadata": {},
   "outputs": [
    {
     "name": "stdout",
     "output_type": "stream",
     "text": [
      "(1, 784)\n",
      "(1, 10)\n"
     ]
    }
   ],
   "source": [
    "print(mnist.train.next_batch(1)[0].shape)\n",
    "print(mnist.train.next_batch(1)[1].shape)"
   ]
  },
  {
   "cell_type": "markdown",
   "metadata": {},
   "source": [
    "##### it shows that mnist  triain shape is X=(55000,784) Y=(55000,10)"
   ]
  },
  {
   "cell_type": "code",
   "execution_count": 6,
   "metadata": {
    "collapsed": true
   },
   "outputs": [],
   "source": [
    "x=tf.placeholder(tf.float32,shape=[None,784])\n",
    "y=tf.placeholder(tf.float32,shape=[None,10])"
   ]
  },
  {
   "cell_type": "code",
   "execution_count": 7,
   "metadata": {
    "collapsed": true
   },
   "outputs": [],
   "source": [
    "#lets initialize our weights and biases\n",
    "hidden_1_layer={\n",
    "    'weights':tf.Variable(tf.random_normal(shape=(784,n_nodes_hl1))),#(nx*nh)\n",
    "    'biases':tf.Variable(tf.random_normal(shape=[n_nodes_hl1,1]))\n",
    "}\n",
    "hidden_2_layer={\n",
    "    'weights':tf.Variable(tf.random_normal(shape=[n_nodes_hl1,n_nodes_hl2])),\n",
    "    'biases':tf.Variable(tf.random_normal(shape=[n_nodes_hl2,1]))\n",
    "}\n",
    "hidden_3_layer={\n",
    "    'weights':tf.Variable(tf.random_normal(shape=[n_nodes_hl2,n_nodes_hl3])),\n",
    "    'biases':tf.Variable(tf.random_normal(shape=[n_nodes_hl3,1]))\n",
    "}\n",
    "output_layer={\n",
    "    'weights':tf.Variable(tf.random_normal(shape=[n_nodes_hl3,n_classes])),\n",
    "    'biases':tf.Variable(tf.random_normal(shape=[n_classes,1]))\n",
    "}"
   ]
  },
  {
   "cell_type": "code",
   "execution_count": 8,
   "metadata": {
    "collapsed": true
   },
   "outputs": [],
   "source": [
    "l1=tf.add(tf.matmul(hidden_1_layer['weights'],x,transpose_a=True,transpose_b=True),hidden_1_layer['biases'])\n",
    "a1=tf.nn.relu(l1)\n",
    "\n",
    "l2=tf.add(tf.matmul(hidden_2_layer['weights'],a1,transpose_a=True),hidden_2_layer['biases'])\n",
    "a2=tf.nn.relu(l2)\n",
    "\n",
    "l3=tf.add(tf.matmul(hidden_3_layer['weights'],a2,transpose_a=True),hidden_3_layer['biases'])\n",
    "a3=tf.nn.relu(l3)\n",
    "\n",
    "output=tf.add(tf.matmul(output_layer['weights'],a3,transpose_a=True),output_layer['biases'])\n"
   ]
  },
  {
   "cell_type": "code",
   "execution_count": 21,
   "metadata": {},
   "outputs": [
    {
     "name": "stdout",
     "output_type": "stream",
     "text": [
      "Epoch 0 completed out of 12 loss: 1414524.560546875\n",
      "Epoch 1 completed out of 12 loss: 816666.6416015625\n",
      "Epoch 2 completed out of 12 loss: 723436.0053710938\n",
      "Epoch 3 completed out of 12 loss: 644313.1030273438\n",
      "Epoch 4 completed out of 12 loss: 576812.3127441406\n",
      "Epoch 5 completed out of 12 loss: 513709.61071777344\n",
      "Epoch 6 completed out of 12 loss: 453199.42626953125\n",
      "Epoch 7 completed out of 12 loss: 399709.45080566406\n",
      "Epoch 8 completed out of 12 loss: 344495.8790283203\n",
      "Epoch 9 completed out of 12 loss: 296518.5770263672\n",
      "Epoch 10 completed out of 12 loss: 249116.41772460938\n",
      "Epoch 11 completed out of 12 loss: 207514.44631958008\n",
      "Accuracy on training data: 0.97949094\n",
      "Accuracy on test data: 0.9564\n"
     ]
    }
   ],
   "source": [
    "\n",
    "lamb=0.005\n",
    "regularizer = tf.nn.l2_loss(hidden_1_layer['weights']) + tf.nn.l2_loss(hidden_2_layer['weights']) + tf.nn.l2_loss(hidden_3_layer['weights'])\n",
    "\n",
    "cost=tf.reduce_mean(tf.nn.softmax_cross_entropy_with_logits_v2(logits=tf.transpose(output),labels=y)) \n",
    "\n",
    "\n",
    "cost = tf.reduce_mean(cost+lamb*regularizer)\n",
    "\n",
    "optimizer=tf.train.AdamOptimizer(learning_rate=0.01).minimize(cost)\n",
    "\n",
    "\n",
    "hm_epochs=12\n",
    "\n",
    "with tf.Session() as sess:\n",
    "    sess.run(tf.global_variables_initializer())\n",
    "    for epoch in range(hm_epochs):\n",
    "        epoch_loss=0\n",
    "        for _ in range(int(mnist.train.num_examples/batch_size)):\n",
    "                epoch_x, epoch_y = mnist.train.next_batch(batch_size)\n",
    "                \n",
    "                _,c=sess.run([optimizer,cost], feed_dict={x: epoch_x, y: epoch_y})\n",
    "                epoch_loss += c\n",
    "                \n",
    "                \n",
    "        print('Epoch', epoch, 'completed out of',hm_epochs,'loss:',epoch_loss)\n",
    "        \n",
    "        \n",
    "       \n",
    "    correct = tf.equal(tf.argmax(tf.transpose(output), 1), tf.argmax(y, 1))\n",
    "    accuracy = tf.reduce_mean(tf.cast(correct, 'float'))\n",
    "    print('Accuracy on training data:',accuracy.eval({x:mnist.train.images, y:mnist.train.labels})) \n",
    "    \n",
    "    correct = tf.equal(tf.argmax(tf.transpose(output), 1), tf.argmax(y, 1))\n",
    "    accuracy = tf.reduce_mean(tf.cast(correct, 'float'))\n",
    "    print('Accuracy on test data:',accuracy.eval({x:mnist.test.images, y:mnist.test.labels}))    "
   ]
  },
  {
   "cell_type": "markdown",
   "metadata": {
    "collapsed": true
   },
   "source": [
    "###### Result: accuracy of 95.6% on test data and 97.9% on training data."
   ]
  }
 ],
 "metadata": {
  "kernelspec": {
   "display_name": "Python 3",
   "language": "python",
   "name": "python3"
  },
  "language_info": {
   "codemirror_mode": {
    "name": "ipython",
    "version": 3
   },
   "file_extension": ".py",
   "mimetype": "text/x-python",
   "name": "python",
   "nbconvert_exporter": "python",
   "pygments_lexer": "ipython3",
   "version": "3.6.4"
  }
 },
 "nbformat": 4,
 "nbformat_minor": 2
}
